{
  "nbformat": 4,
  "nbformat_minor": 0,
  "metadata": {
    "colab": {
      "provenance": [],
      "toc_visible": true,
      "gpuType": "T4"
    },
    "kernelspec": {
      "name": "python3",
      "display_name": "Python 3"
    },
    "language_info": {
      "name": "python"
    },
    "accelerator": "GPU"
  },
  "cells": [
    {
      "cell_type": "markdown",
      "source": [
        "## **PRACTICAL SESSION 1** — Deep Learning for predictive maintenance"
      ],
      "metadata": {
        "id": "ZLQS0KLMycmb"
      }
    },
    {
      "cell_type": "markdown",
      "source": [
        "The dataset used is the **AI4I 2020** Predictive Maintenance Dataset, which contains 10,000 instances of industrial sensor data. Each instance represents the operating condition of a machine and is associated with a label indicating whether a failure has occurred and, if so, what type of failure it is.\n",
        "\n",
        "The 5 possible labels are:\n",
        "\n",
        "\n",
        "\n",
        "*   **TWF**: Tool Wear Failure\n",
        "*   **HDF**: Heat Dissipation Failure\n",
        "*   **PWF**: Power Failure\n",
        "*   **OSF**: Overstrain Failure\n",
        "*   **RNF**: Random Failure\n",
        "\n",
        "\n",
        "The data is available on eCAMPUS as CSV file called: \"ai4i2020.csv\"\n",
        "\n"
      ],
      "metadata": {
        "id": "3mjNAfgj4K1_"
      }
    },
    {
      "cell_type": "markdown",
      "source": [
        "## **PRACTICAL SESSION Goal** — Create a deep learning model allowing to realize a predictive maintenance mission"
      ],
      "metadata": {
        "id": "4_LBMVsgRI9W"
      }
    },
    {
      "cell_type": "markdown",
      "source": [
        "## **1 - Analysis of the dataset**\n",
        "\n"
      ],
      "metadata": {
        "id": "wt7L0p4MbIIw"
      }
    },
    {
      "cell_type": "markdown",
      "source": [
        "All libraries used ***SHOULD BE PLACED*** in the code cell below"
      ],
      "metadata": {
        "id": "0JFIZ6mtRapt"
      }
    },
    {
      "cell_type": "code",
      "execution_count": 1,
      "metadata": {
        "id": "UQp7FGSb5Vlv"
      },
      "outputs": [],
      "source": [
        "import numpy as np\n",
        "import pandas as pd\n",
        "import matplotlib.pyplot as plt\n",
        "import seaborn as sns\n",
        "import tensorflow as tf\n",
        "from tensorflow import keras\n",
        "from tensorflow.keras.models import Sequential\n",
        "from tensorflow.keras.layers import Dense, Dropout, BatchNormalization\n",
        "from sklearn.model_selection import train_test_split\n",
        "from sklearn.preprocessing import StandardScaler, LabelEncoder\n",
        "from sklearn.metrics import confusion_matrix, classification_report\n"
      ]
    },
    {
      "cell_type": "markdown",
      "source": [
        "**QUESTION:** Load dataset and display some lines of the csv file."
      ],
      "metadata": {
        "id": "eFRcS74MDeSf"
      }
    },
    {
      "cell_type": "code",
      "source": [
        "# Mount Google Drive\n",
        "from google.colab import drive\n",
        "drive.mount('/content/drive')\n",
        "\n",
        "# Load dataset from Google Drive\n",
        "dataset_path = \"/content/drive/MyDrive/Colab Notebooks/data/ai4i2020.csv\"\n",
        "df = pd.read_csv(dataset_path)\n",
        "\n",
        "# Display first few rows\n",
        "print(\"Dataset Head:\")\n",
        "print(df.head())\n",
        "\n",
        "# Display dataset shape\n",
        "print(\"\\nDataset Shape:\", df.shape)"
      ],
      "metadata": {
        "id": "9l044FZ_5-fN",
        "colab": {
          "base_uri": "https://localhost:8080/"
        },
        "outputId": "2a22e5a0-d168-4870-94ba-ec9e59dd52e6"
      },
      "execution_count": 2,
      "outputs": [
        {
          "output_type": "stream",
          "name": "stdout",
          "text": [
            "Mounted at /content/drive\n",
            "Dataset Head:\n",
            "   UDI Product ID Type  Air temperature [K]  Process temperature [K]  \\\n",
            "0    1     M14860    M                298.1                    308.6   \n",
            "1    2     L47181    L                298.2                    308.7   \n",
            "2    3     L47182    L                298.1                    308.5   \n",
            "3    4     L47183    L                298.2                    308.6   \n",
            "4    5     L47184    L                298.2                    308.7   \n",
            "\n",
            "   Rotational speed [rpm]  Torque [Nm]  Tool wear [min]  Machine failure  TWF  \\\n",
            "0                    1551         42.8                0                0    0   \n",
            "1                    1408         46.3                3                0    0   \n",
            "2                    1498         49.4                5                0    0   \n",
            "3                    1433         39.5                7                0    0   \n",
            "4                    1408         40.0                9                0    0   \n",
            "\n",
            "   HDF  PWF  OSF  RNF  \n",
            "0    0    0    0    0  \n",
            "1    0    0    0    0  \n",
            "2    0    0    0    0  \n",
            "3    0    0    0    0  \n",
            "4    0    0    0    0  \n",
            "\n",
            "Dataset Shape: (10000, 14)\n"
          ]
        }
      ]
    },
    {
      "cell_type": "markdown",
      "source": [
        "\n",
        "\n",
        "```\n",
        "# Ce texte est au format code\n",
        "```\n",
        "\n",
        "**QUESTION:** Display the distribution of machine failures and non-failures with a bar graph."
      ],
      "metadata": {
        "id": "joQOXoqaD8JA"
      }
    },
    {
      "cell_type": "code",
      "source": [
        "# Plot distribution of machine failures\n",
        "plt.figure(figsize=(6,4))\n",
        "sns.countplot(x=df['Machine failure'], palette='viridis')\n",
        "plt.xlabel(\"Machine Failure (0 = No, 1 = Yes)\")\n",
        "plt.ylabel(\"Count\")\n",
        "plt.title(\"Distribution of Machine Failures and Non-Failures\")\n",
        "plt.show()"
      ],
      "metadata": {
        "id": "r3Q1l9JoMs7m",
        "colab": {
          "base_uri": "https://localhost:8080/",
          "height": 517
        },
        "outputId": "84dda3b5-921c-44ff-e90f-2333d6b9ec79"
      },
      "execution_count": 3,
      "outputs": [
        {
          "output_type": "stream",
          "name": "stderr",
          "text": [
            "<ipython-input-3-b6f2c28109fd>:3: FutureWarning: \n",
            "\n",
            "Passing `palette` without assigning `hue` is deprecated and will be removed in v0.14.0. Assign the `x` variable to `hue` and set `legend=False` for the same effect.\n",
            "\n",
            "  sns.countplot(x=df['Machine failure'], palette='viridis')\n"
          ]
        },
        {
          "output_type": "display_data",
          "data": {
            "text/plain": [
              "<Figure size 600x400 with 1 Axes>"
            ],
            "image/png": "[encoded data removed]"
          },
          "metadata": {}
        }
      ]
    },
    {
      "cell_type": "markdown",
      "source": [
        "**ANALYSIS QUESTION:** What do you observe?"
      ],
      "metadata": {
        "id": "vCNIqXVyEkrR"
      }
    },
    {
      "cell_type": "markdown",
      "source": [
        "The dataset is highly imbalanced, with far more non-failure cases than failure cases. This imbalance may cause a predictive model to favor non-failures, making failure detection challenging. Techniques like oversampling, undersampling, or class weighting may be needed to improve model performance."
      ],
      "metadata": {
        "id": "6BMGtlIWE-C0"
      }
    },
    {
      "cell_type": "markdown",
      "source": [
        "**ANALYSIS QUESTION:** What will be the consequence of this phenomenon on the model's learning?\n",
        "\n"
      ],
      "metadata": {
        "id": "huU5I4x8SzlN"
      }
    },
    {
      "cell_type": "markdown",
      "source": [
        "The class imbalance will cause the model to bias toward non-failures, leading to:\n",
        "\n",
        "- Poor failure detection – The model may predict non-failure (0) most of the time, ignoring rare failure cases.\n",
        "- High accuracy but low recall for failures – The overall accuracy might be high, but the model will struggle to correctly identify failures.\n",
        "- Need for balancing techniques – Oversampling, undersampling, or class weighting will be necessary to improve failure prediction."
      ],
      "metadata": {
        "id": "JHmYROP0TLIS"
      }
    },
    {
      "cell_type": "markdown",
      "source": [
        "**QUESTION:** Create a bar chart showing the distribution of different failure types (TWF, HDF, PWF, OSF, RNF). Display the exact values above each bar in the chart.\""
      ],
      "metadata": {
        "id": "0s-mzCCsSasl"
      }
    },
    {
      "cell_type": "code",
      "source": [
        "# Plot distribution of different failure types\n",
        "failure_types = ['TWF', 'HDF', 'PWF', 'OSF', 'RNF']\n",
        "failure_counts = df[failure_types].sum()\n",
        "\n",
        "plt.figure(figsize=(6,4))\n",
        "bars = sns.barplot(x=failure_counts.index, y=failure_counts.values, palette='muted')\n",
        "plt.xlabel(\"Failure Type\")\n",
        "plt.ylabel(\"Count\")\n",
        "plt.title(\"Distribution of Different Failure Types\")\n",
        "\n",
        "# Display exact values above bars\n",
        "for bar in bars.patches:\n",
        "    plt.text(bar.get_x() + bar.get_width()/2, bar.get_height(), int(bar.get_height()),\n",
        "             ha='center', va='bottom', fontsize=10, fontweight='bold')\n",
        "\n",
        "plt.show()"
      ],
      "metadata": {
        "id": "nQyJCfamMdJN",
        "colab": {
          "base_uri": "https://localhost:8080/",
          "height": 517
        },
        "outputId": "0cbeec17-782a-4253-cf5c-17ab64b5dcde"
      },
      "execution_count": 4,
      "outputs": [
        {
          "output_type": "stream",
          "name": "stderr",
          "text": [
            "<ipython-input-4-c1d8fb8f6550>:6: FutureWarning: \n",
            "\n",
            "Passing `palette` without assigning `hue` is deprecated and will be removed in v0.14.0. Assign the `x` variable to `hue` and set `legend=False` for the same effect.\n",
            "\n",
            "  bars = sns.barplot(x=failure_counts.index, y=failure_counts.values, palette='muted')\n"
          ]
        },
        {
          "output_type": "display_data",
          "data": {
            "text/plain": [
              "<Figure size 600x400 with 1 Axes>"
            ],
            "image/png": "[encoded data removed]"
          },
          "metadata": {}
        }
      ]
    },
    {
      "cell_type": "markdown",
      "source": [
        "**ANALYSIS QUESTION:** What do you observe?"
      ],
      "metadata": {
        "id": "NXyHa73yU8g_"
      }
    },
    {
      "cell_type": "markdown",
      "source": [
        "From the bar chart, we observe:\n",
        "\n",
        "- Imbalanced Failure Types\n",
        "\n",
        "- Some failure types (HDF, OSF, and PWF) occur more frequently than others (TWF and RNF).\n",
        "Random Failures (RNF) are the rarest, making them harder to predict accurately.\n",
        "Impact on Model Learning\n",
        "\n",
        "- The model may struggle to learn patterns for rare failure types, potentially misclassifying them.\n",
        "Data balancing techniques (e.g., oversampling or weighted loss functions) may be required to improve prediction performance."
      ],
      "metadata": {
        "id": "WRDFE_dsVBBU"
      }
    },
    {
      "cell_type": "markdown",
      "source": [
        "**QUESTION:** Create a bar chart showing the distribution of failure types (TWF, HDF, PWF, OSF, RNF) among machines that experienced a failure (Machine failure == 1). Additionally, add a \"No Specific Failure\" category to count cases where a machine failed but no specific failure type was recorded. Display the exact values above each bar in the chart.\""
      ],
      "metadata": {
        "id": "cvaO2bEIMxLd"
      }
    },
    {
      "cell_type": "code",
      "source": [
        "# Plot distribution of failure types among machines that failed\n",
        "failed_machines = df[df['Machine failure'] == 1]\n",
        "failure_counts_failed = failed_machines[failure_types].sum()\n",
        "\n",
        "# Count cases where a machine failed but no specific failure type was recorded\n",
        "no_specific_failure = failed_machines[(failed_machines[failure_types].sum(axis=1) == 0)].shape[0]\n",
        "\n",
        "# Append 'No Specific Failure' category using pandas concat (since append is deprecated)\n",
        "failure_counts_failed = pd.concat([failure_counts_failed, pd.Series({'No Specific Failure': no_specific_failure})])\n",
        "\n",
        "plt.figure(figsize=(6,4))\n",
        "bars = sns.barplot(x=failure_counts_failed.index, y=failure_counts_failed.values, palette='pastel')\n",
        "plt.xlabel(\"Failure Type\")\n",
        "plt.ylabel(\"Count\")\n",
        "plt.title(\"Distribution of Failure Types Among Failed Machines\")\n",
        "\n",
        "# Display exact values above bars\n",
        "for bar in bars.patches:\n",
        "    plt.text(bar.get_x() + bar.get_width()/2, bar.get_height(), int(bar.get_height()),\n",
        "             ha='center', va='bottom', fontsize=10, fontweight='bold')\n",
        "\n",
        "plt.show()\n"
      ],
      "metadata": {
        "id": "e97htGyyMsle",
        "colab": {
          "base_uri": "https://localhost:8080/",
          "height": 517
        },
        "outputId": "1b62b81e-4a67-4ebe-e9d0-0093de88a391"
      },
      "execution_count": 5,
      "outputs": [
        {
          "output_type": "stream",
          "name": "stderr",
          "text": [
            "<ipython-input-5-b1151317047a>:12: FutureWarning: \n",
            "\n",
            "Passing `palette` without assigning `hue` is deprecated and will be removed in v0.14.0. Assign the `x` variable to `hue` and set `legend=False` for the same effect.\n",
            "\n",
            "  bars = sns.barplot(x=failure_counts_failed.index, y=failure_counts_failed.values, palette='pastel')\n"
          ]
        },
        {
          "output_type": "display_data",
          "data": {
            "text/plain": [
              "<Figure size 600x400 with 1 Axes>"
            ],
            "image/png": "[encoded data removed]"
          },
          "metadata": {}
        }
      ]
    },
    {
      "cell_type": "markdown",
      "source": [
        "**ANALYSIS QUESTION:** What do you observe compared to the previous question ? What can you conclude?\n",
        "\n"
      ],
      "metadata": {
        "id": "U6_3vAQCOUGb"
      }
    },
    {
      "cell_type": "markdown",
      "source": [
        "- Key difference: The first analysis included all machines, while this one focuses only on failed machines.\n",
        "- Observations: HDF, OSF, and PWF are the most frequent failures. RNF is extremely rare (only 1 case).\n",
        "New insight: 9 failed machines have no recorded failure type, suggesting missing labels or unidentified failures.\n",
        "- Conclusion: The model may struggle with rare failure types and \"No Specific Failure\" cases, requiring data balancing or label refinement."
      ],
      "metadata": {
        "id": "i-6t7nqlOjMo"
      }
    },
    {
      "cell_type": "markdown",
      "source": [
        "**QUESTION:** Display the names of the different columns in the dataset with their respective data types."
      ],
      "metadata": {
        "id": "muXeS0eVVW6H"
      }
    },
    {
      "cell_type": "code",
      "source": [
        "# Display column names and data types\n",
        "print(\"\\nDataset Columns and Data Types:\")\n",
        "print(df.dtypes)"
      ],
      "metadata": {
        "id": "pa9Tptu7nPMp",
        "colab": {
          "base_uri": "https://localhost:8080/"
        },
        "outputId": "3e587401-ac2f-4d30-be88-470019ee31e3"
      },
      "execution_count": 6,
      "outputs": [
        {
          "output_type": "stream",
          "name": "stdout",
          "text": [
            "\n",
            "Dataset Columns and Data Types:\n",
            "UDI                          int64\n",
            "Product ID                  object\n",
            "Type                        object\n",
            "Air temperature [K]        float64\n",
            "Process temperature [K]    float64\n",
            "Rotational speed [rpm]       int64\n",
            "Torque [Nm]                float64\n",
            "Tool wear [min]              int64\n",
            "Machine failure              int64\n",
            "TWF                          int64\n",
            "HDF                          int64\n",
            "PWF                          int64\n",
            "OSF                          int64\n",
            "RNF                          int64\n",
            "dtype: object\n"
          ]
        }
      ]
    },
    {
      "cell_type": "markdown",
      "source": [
        "**ANALYSIS QUESTION:** To train the model, what will be the inputs and outputs (What are the names of the columns that you will use?)? Justify your response.\n",
        "Remember, you want to predict if the machine will fail, and if so, what kind of failure. You need to yse previous results to jsurtify your response."
      ],
      "metadata": {
        "id": "cezua1bMVTCM"
      }
    },
    {
      "cell_type": "markdown",
      "source": [
        "### **Inputs and Outputs for Model Training**  \n",
        "\n",
        "#### **Inputs (Features)**\n",
        "We will use the machine’s **operating conditions and sensor data** as input features:  \n",
        "- **Air temperature [K]**  \n",
        "- **Process temperature [K]**  \n",
        "- **Rotational speed [rpm]**  \n",
        "- **Torque [Nm]**  \n",
        "- **Tool wear [min]**  \n",
        "- **Type** (Categorical, requires encoding)\n",
        "\n",
        "**Justification:**  \n",
        "From previous analyses, we observed that failures are **correlated** with operating conditions. Machines with high **tool wear, torque, or temperature variations** are more prone to failure.\n",
        "\n",
        "#### **Outputs (Targets)**\n",
        "We need to predict:  \n",
        "1. **Whether a failure will occur** → `Machine failure` (Binary: 0 = No, 1 = Yes)  \n",
        "2. **If a failure occurs, what type it is** → `TWF, HDF, PWF, OSF, RNF` (Multilabel classification)\n",
        "\n",
        "**Justification:**  \n",
        "- The **bar charts showed class imbalance**, meaning some failure types occur more frequently.  \n",
        "- The **\"No Specific Failure\"** category indicated that `Machine failure` can be **1 even when no failure type is flagged**, suggesting a need for both tasks:  \n",
        "  - **Step 1:** Predict if failure will occur (`Machine failure`).  \n",
        "  - **Step 2:** If failure happens, classify the type (`TWF, HDF, PWF, OSF, RNF`).  \n",
        "\n",
        "### **Conclusion**  \n",
        "We will **first train the model to predict failures** and then **classify failure types when a failure is detected**. This **two-step approach** ensures better accuracy for failure detection and diagnosis."
      ],
      "metadata": {
        "id": "0gy8oDgxbjol"
      }
    },
    {
      "cell_type": "markdown",
      "source": [
        "## **2- Train model Without balancing the dataset**\n",
        "\n",
        "---\n",
        "\n"
      ],
      "metadata": {
        "id": "CFXLkBzTiafx"
      }
    },
    {
      "cell_type": "markdown",
      "source": [
        "In this section, you must build and train a model without rebalancing the dataset."
      ],
      "metadata": {
        "id": "plBeUOCKvVNU"
      }
    },
    {
      "cell_type": "markdown",
      "source": [
        "**QUESTION:** Create X_train, Y_train, X_test, and Y_test. How many elements are present in X_train, Y_train, X_test, and Y_test? (Print the values)"
      ],
      "metadata": {
        "id": "yj7CMqdVbxg2"
      }
    },
    {
      "cell_type": "code",
      "source": [
        "# Prepare data for model training\n",
        "features = ['Air temperature [K]', 'Process temperature [K]', 'Rotational speed [rpm]', 'Torque [Nm]', 'Tool wear [min]']\n",
        "target = ['Machine failure']\n",
        "\n",
        "X = df[features]\n",
        "Y = df[target]\n",
        "\n",
        "# Split dataset into training and testing sets\n",
        "X_train, X_test, Y_train, Y_test = train_test_split(X, Y, test_size=0.2, random_state=42)\n",
        "\n",
        "# Print the number of elements in each set\n",
        "print(\"\\nTraining set size:\")\n",
        "print(\"X_train:\", X_train.shape)\n",
        "print(\"Y_train:\", Y_train.shape)\n",
        "print(\"\\nTesting set size:\")\n",
        "print(\"X_test:\", X_test.shape)\n",
        "print(\"Y_test:\", Y_test.shape)\n"
      ],
      "metadata": {
        "id": "Wdght-L8wQQQ",
        "colab": {
          "base_uri": "https://localhost:8080/"
        },
        "outputId": "687e3598-757a-492b-d69f-e147249813eb"
      },
      "execution_count": 7,
      "outputs": [
        {
          "output_type": "stream",
          "name": "stdout",
          "text": [
            "\n",
            "Training set size:\n",
            "X_train: (8000, 5)\n",
            "Y_train: (8000, 1)\n",
            "\n",
            "Testing set size:\n",
            "X_test: (2000, 5)\n",
            "Y_test: (2000, 1)\n"
          ]
        }
      ]
    },
    {
      "cell_type": "markdown",
      "source": [
        "**QUESTION** Code below the model architecture"
      ],
      "metadata": {
        "id": "eqBuZsqKdQ7u"
      }
    },
    {
      "cell_type": "code",
      "source": [
        "# Build the model\n",
        "model = Sequential([\n",
        "    Dense(64, activation='relu', input_shape=(X_train.shape[1],)),\n",
        "    BatchNormalization(),\n",
        "    Dropout(0.3),\n",
        "    Dense(32, activation='relu'),\n",
        "    BatchNormalization(),\n",
        "    Dropout(0.3),\n",
        "    Dense(1, activation='sigmoid')  # Binary classification\n",
        "])\n",
        "\n",
        "# Compile the model\n",
        "model.compile(optimizer='adam', loss='binary_crossentropy', metrics=['accuracy'])\n",
        "\n",
        "# Display the model architecture\n",
        "model.summary()"
      ],
      "metadata": {
        "id": "F35j0VRDdNLc",
        "colab": {
          "base_uri": "https://localhost:8080/",
          "height": 440
        },
        "outputId": "a9254b19-8e87-4c84-b390-d9588a0c5b0d"
      },
      "execution_count": 8,
      "outputs": [
        {
          "output_type": "stream",
          "name": "stderr",
          "text": [
            "/usr/local/lib/python3.11/dist-packages/keras/src/layers/core/dense.py:87: UserWarning: Do not pass an `input_shape`/`input_dim` argument to a layer. When using Sequential models, prefer using an `Input(shape)` object as the first layer in the model instead.\n",
            "  super().__init__(activity_regularizer=activity_regularizer, **kwargs)\n"
          ]
        },
        {
          "output_type": "display_data",
          "data": {
            "text/plain": [
              "\u001b[1mModel: \"sequential\"\u001b[0m\n"
            ],
            "text/html": [
              "<pre style=\"white-space:pre;overflow-x:auto;line-height:normal;font-family:Menlo,'DejaVu Sans Mono',consolas,'Courier New',monospace\"><span style=\"font-weight: bold\">Model: \"sequential\"</span>\n",
              "</pre>\n"
            ]
          },
          "metadata": {}
        },
        {
          "output_type": "display_data",
          "data": {
            "text/plain": [
              "┏━━━━━━━━━━━━━━━━━━━━━━━━━━━━━━━━━━━━━━┳━━━━━━━━━━━━━━━━━━━━━━━━━━━━━┳━━━━━━━━━━━━━━━━━┓\n",
              "┃\u001b[1m \u001b[0m\u001b[1mLayer (type)                        \u001b[0m\u001b[1m \u001b[0m┃\u001b[1m \u001b[0m\u001b[1mOutput Shape               \u001b[0m\u001b[1m \u001b[0m┃\u001b[1m \u001b[0m\u001b[1m        Param #\u001b[0m\u001b[1m \u001b[0m┃\n",
              "┡━━━━━━━━━━━━━━━━━━━━━━━━━━━━━━━━━━━━━━╇━━━━━━━━━━━━━━━━━━━━━━━━━━━━━╇━━━━━━━━━━━━━━━━━┩\n",
              "│ dense (\u001b[38;5;33mDense\u001b[0m)                        │ (\u001b[38;5;45mNone\u001b[0m, \u001b[38;5;34m64\u001b[0m)                  │             \u001b[38;5;34m384\u001b[0m │\n",
              "├──────────────────────────────────────┼─────────────────────────────┼─────────────────┤\n",
              "│ batch_normalization                  │ (\u001b[38;5;45mNone\u001b[0m, \u001b[38;5;34m64\u001b[0m)                  │             \u001b[38;5;34m256\u001b[0m │\n",
              "│ (\u001b[38;5;33mBatchNormalization\u001b[0m)                 │                             │                 │\n",
              "├──────────────────────────────────────┼─────────────────────────────┼─────────────────┤\n",
              "│ dropout (\u001b[38;5;33mDropout\u001b[0m)                    │ (\u001b[38;5;45mNone\u001b[0m, \u001b[38;5;34m64\u001b[0m)                  │               \u001b[38;5;34m0\u001b[0m │\n",
              "├──────────────────────────────────────┼─────────────────────────────┼─────────────────┤\n",
              "│ dense_1 (\u001b[38;5;33mDense\u001b[0m)                      │ (\u001b[38;5;45mNone\u001b[0m, \u001b[38;5;34m32\u001b[0m)                  │           \u001b[38;5;34m2,080\u001b[0m │\n",
              "├──────────────────────────────────────┼─────────────────────────────┼─────────────────┤\n",
              "│ batch_normalization_1                │ (\u001b[38;5;45mNone\u001b[0m, \u001b[38;5;34m32\u001b[0m)                  │             \u001b[38;5;34m128\u001b[0m │\n",
              "│ (\u001b[38;5;33mBatchNormalization\u001b[0m)                 │                             │                 │\n",
              "├──────────────────────────────────────┼─────────────────────────────┼─────────────────┤\n",
              "│ dropout_1 (\u001b[38;5;33mDropout\u001b[0m)                  │ (\u001b[38;5;45mNone\u001b[0m, \u001b[38;5;34m32\u001b[0m)                  │               \u001b[38;5;34m0\u001b[0m │\n",
              "├──────────────────────────────────────┼─────────────────────────────┼─────────────────┤\n",
              "│ dense_2 (\u001b[38;5;33mDense\u001b[0m)                      │ (\u001b[38;5;45mNone\u001b[0m, \u001b[38;5;34m1\u001b[0m)                   │              \u001b[38;5;34m33\u001b[0m │\n",
              "└──────────────────────────────────────┴─────────────────────────────┴─────────────────┘\n"
            ],
            "text/html": [
              "<pre style=\"white-space:pre;overflow-x:auto;line-height:normal;font-family:Menlo,'DejaVu Sans Mono',consolas,'Courier New',monospace\">┏━━━━━━━━━━━━━━━━━━━━━━━━━━━━━━━━━━━━━━┳━━━━━━━━━━━━━━━━━━━━━━━━━━━━━┳━━━━━━━━━━━━━━━━━┓\n",
              "┃<span style=\"font-weight: bold\"> Layer (type)                         </span>┃<span style=\"font-weight: bold\"> Output Shape                </span>┃<span style=\"font-weight: bold\">         Param # </span>┃\n",
              "┡━━━━━━━━━━━━━━━━━━━━━━━━━━━━━━━━━━━━━━╇━━━━━━━━━━━━━━━━━━━━━━━━━━━━━╇━━━━━━━━━━━━━━━━━┩\n",
              "│ dense (<span style=\"color: #0087ff; text-decoration-color: #0087ff\">Dense</span>)                        │ (<span style=\"color: #00d7ff; text-decoration-color: #00d7ff\">None</span>, <span style=\"color: #00af00; text-decoration-color: #00af00\">64</span>)                  │             <span style=\"color: #00af00; text-decoration-color: #00af00\">384</span> │\n",
              "├──────────────────────────────────────┼─────────────────────────────┼─────────────────┤\n",
              "│ batch_normalization                  │ (<span style=\"color: #00d7ff; text-decoration-color: #00d7ff\">None</span>, <span style=\"color: #00af00; text-decoration-color: #00af00\">64</span>)                  │             <span style=\"color: #00af00; text-decoration-color: #00af00\">256</span> │\n",
              "│ (<span style=\"color: #0087ff; text-decoration-color: #0087ff\">BatchNormalization</span>)                 │                             │                 │\n",
              "├──────────────────────────────────────┼─────────────────────────────┼─────────────────┤\n",
              "│ dropout (<span style=\"color: #0087ff; text-decoration-color: #0087ff\">Dropout</span>)                    │ (<span style=\"color: #00d7ff; text-decoration-color: #00d7ff\">None</span>, <span style=\"color: #00af00; text-decoration-color: #00af00\">64</span>)                  │               <span style=\"color: #00af00; text-decoration-color: #00af00\">0</span> │\n",
              "├──────────────────────────────────────┼─────────────────────────────┼─────────────────┤\n",
              "│ dense_1 (<span style=\"color: #0087ff; text-decoration-color: #0087ff\">Dense</span>)                      │ (<span style=\"color: #00d7ff; text-decoration-color: #00d7ff\">None</span>, <span style=\"color: #00af00; text-decoration-color: #00af00\">32</span>)                  │           <span style=\"color: #00af00; text-decoration-color: #00af00\">2,080</span> │\n",
              "├──────────────────────────────────────┼─────────────────────────────┼─────────────────┤\n",
              "│ batch_normalization_1                │ (<span style=\"color: #00d7ff; text-decoration-color: #00d7ff\">None</span>, <span style=\"color: #00af00; text-decoration-color: #00af00\">32</span>)                  │             <span style=\"color: #00af00; text-decoration-color: #00af00\">128</span> │\n",
              "│ (<span style=\"color: #0087ff; text-decoration-color: #0087ff\">BatchNormalization</span>)                 │                             │                 │\n",
              "├──────────────────────────────────────┼─────────────────────────────┼─────────────────┤\n",
              "│ dropout_1 (<span style=\"color: #0087ff; text-decoration-color: #0087ff\">Dropout</span>)                  │ (<span style=\"color: #00d7ff; text-decoration-color: #00d7ff\">None</span>, <span style=\"color: #00af00; text-decoration-color: #00af00\">32</span>)                  │               <span style=\"color: #00af00; text-decoration-color: #00af00\">0</span> │\n",
              "├──────────────────────────────────────┼─────────────────────────────┼─────────────────┤\n",
              "│ dense_2 (<span style=\"color: #0087ff; text-decoration-color: #0087ff\">Dense</span>)                      │ (<span style=\"color: #00d7ff; text-decoration-color: #00d7ff\">None</span>, <span style=\"color: #00af00; text-decoration-color: #00af00\">1</span>)                   │              <span style=\"color: #00af00; text-decoration-color: #00af00\">33</span> │\n",
              "└──────────────────────────────────────┴─────────────────────────────┴─────────────────┘\n",
              "</pre>\n"
            ]
          },
          "metadata": {}
        },
        {
          "output_type": "display_data",
          "data": {
            "text/plain": [
              "\u001b[1m Total params: \u001b[0m\u001b[38;5;34m2,881\u001b[0m (11.25 KB)\n"
            ],
            "text/html": [
              "<pre style=\"white-space:pre;overflow-x:auto;line-height:normal;font-family:Menlo,'DejaVu Sans Mono',consolas,'Courier New',monospace\"><span style=\"font-weight: bold\"> Total params: </span><span style=\"color: #00af00; text-decoration-color: #00af00\">2,881</span> (11.25 KB)\n",
              "</pre>\n"
            ]
          },
          "metadata": {}
        },
        {
          "output_type": "display_data",
          "data": {
            "text/plain": [
              "\u001b[1m Trainable params: \u001b[0m\u001b[38;5;34m2,689\u001b[0m (10.50 KB)\n"
            ],
            "text/html": [
              "<pre style=\"white-space:pre;overflow-x:auto;line-height:normal;font-family:Menlo,'DejaVu Sans Mono',consolas,'Courier New',monospace\"><span style=\"font-weight: bold\"> Trainable params: </span><span style=\"color: #00af00; text-decoration-color: #00af00\">2,689</span> (10.50 KB)\n",
              "</pre>\n"
            ]
          },
          "metadata": {}
        },
        {
          "output_type": "display_data",
          "data": {
            "text/plain": [
              "\u001b[1m Non-trainable params: \u001b[0m\u001b[38;5;34m192\u001b[0m (768.00 B)\n"
            ],
            "text/html": [
              "<pre style=\"white-space:pre;overflow-x:auto;line-height:normal;font-family:Menlo,'DejaVu Sans Mono',consolas,'Courier New',monospace\"><span style=\"font-weight: bold\"> Non-trainable params: </span><span style=\"color: #00af00; text-decoration-color: #00af00\">192</span> (768.00 B)\n",
              "</pre>\n"
            ]
          },
          "metadata": {}
        }
      ]
    },
    {
      "cell_type": "markdown",
      "source": [
        "**QUESTION** Code below the algorithms allowing to train model\n",
        "\n",
        "**WARNING!** You need to plot the training and test accuracy and loss to check if our model is overfitting"
      ],
      "metadata": {
        "id": "dIONoP2Jdg8Q"
      }
    },
    {
      "cell_type": "code",
      "source": [
        "# Train the model\n",
        "history = model.fit(X_train, Y_train, validation_data=(X_test, Y_test), epochs=50, batch_size=32)\n",
        "\n",
        "# Plot training history\n",
        "plt.figure(figsize=(12,5))\n",
        "\n",
        "# Plot training & validation accuracy values\n",
        "plt.subplot(1, 2, 1)\n",
        "plt.plot(history.history['accuracy'], label='Train Accuracy')\n",
        "plt.plot(history.history['val_accuracy'], label='Test Accuracy')\n",
        "plt.xlabel('Epoch')\n",
        "plt.ylabel('Accuracy')\n",
        "plt.legend()\n",
        "plt.title('Model Accuracy')\n",
        "\n",
        "# Plot training & validation loss values\n",
        "plt.subplot(1, 2, 2)\n",
        "plt.plot(history.history['loss'], label='Train Loss')\n",
        "plt.plot(history.history['val_loss'], label='Test Loss')\n",
        "plt.xlabel('Epoch')\n",
        "plt.ylabel('Loss')\n",
        "plt.legend()\n",
        "plt.title('Model Loss')\n",
        "\n",
        "plt.show()\n"
      ],
      "metadata": {
        "id": "jJ2bYxZydhW2",
        "colab": {
          "base_uri": "https://localhost:8080/",
          "height": 1000
        },
        "outputId": "2c4864c5-9fb6-4e32-ebd3-f5f17eb946b1"
      },
      "execution_count": 9,
      "outputs": [
        {
          "output_type": "stream",
          "name": "stdout",
          "text": [
            "Epoch 1/50\n",
            "\u001b[1m250/250\u001b[0m \u001b[32m━━━━━━━━━━━━━━━━━━━━\u001b[0m\u001b[37m\u001b[0m \u001b[1m5s\u001b[0m 6ms/step - accuracy: 0.6865 - loss: 0.6570 - val_accuracy: 0.9695 - val_loss: 0.2033\n",
            "Epoch 2/50\n",
            "\u001b[1m250/250\u001b[0m \u001b[32m━━━━━━━━━━━━━━━━━━━━\u001b[0m\u001b[37m\u001b[0m \u001b[1m2s\u001b[0m 3ms/step - accuracy: 0.9345 - loss: 0.2505 - val_accuracy: 0.9695 - val_loss: 0.1341\n",
            "Epoch 3/50\n",
            "\u001b[1m250/250\u001b[0m \u001b[32m━━━━━━━━━━━━━━━━━━━━\u001b[0m\u001b[37m\u001b[0m \u001b[1m1s\u001b[0m 3ms/step - accuracy: 0.9558 - loss: 0.1661 - val_accuracy: 0.9700 - val_loss: 0.1135\n",
            "Epoch 4/50\n",
            "\u001b[1m250/250\u001b[0m \u001b[32m━━━━━━━━━━━━━━━━━━━━\u001b[0m\u001b[37m\u001b[0m \u001b[1m1s\u001b[0m 4ms/step - accuracy: 0.9606 - loss: 0.1381 - val_accuracy: 0.9655 - val_loss: 0.1520\n",
            "Epoch 5/50\n",
            "\u001b[1m250/250\u001b[0m \u001b[32m━━━━━━━━━━━━━━━━━━━━\u001b[0m\u001b[37m\u001b[0m \u001b[1m1s\u001b[0m 4ms/step - accuracy: 0.9638 - loss: 0.1296 - val_accuracy: 0.7830 - val_loss: 0.4614\n",
            "Epoch 6/50\n",
            "\u001b[1m250/250\u001b[0m \u001b[32m━━━━━━━━━━━━━━━━━━━━\u001b[0m\u001b[37m\u001b[0m \u001b[1m1s\u001b[0m 5ms/step - accuracy: 0.9649 - loss: 0.1211 - val_accuracy: 0.8405 - val_loss: 0.3585\n",
            "Epoch 7/50\n",
            "\u001b[1m250/250\u001b[0m \u001b[32m━━━━━━━━━━━━━━━━━━━━\u001b[0m\u001b[37m\u001b[0m \u001b[1m1s\u001b[0m 3ms/step - accuracy: 0.9645 - loss: 0.1204 - val_accuracy: 0.4630 - val_loss: 0.9965\n",
            "Epoch 8/50\n",
            "\u001b[1m250/250\u001b[0m \u001b[32m━━━━━━━━━━━━━━━━━━━━\u001b[0m\u001b[37m\u001b[0m \u001b[1m1s\u001b[0m 3ms/step - accuracy: 0.9640 - loss: 0.1246 - val_accuracy: 0.9685 - val_loss: 0.1129\n",
            "Epoch 9/50\n",
            "\u001b[1m250/250\u001b[0m \u001b[32m━━━━━━━━━━━━━━━━━━━━\u001b[0m\u001b[37m\u001b[0m \u001b[1m1s\u001b[0m 3ms/step - accuracy: 0.9673 - loss: 0.1133 - val_accuracy: 0.8165 - val_loss: 0.4503\n",
            "Epoch 10/50\n",
            "\u001b[1m250/250\u001b[0m \u001b[32m━━━━━━━━━━━━━━━━━━━━\u001b[0m\u001b[37m\u001b[0m \u001b[1m1s\u001b[0m 3ms/step - accuracy: 0.9622 - loss: 0.1214 - val_accuracy: 0.9730 - val_loss: 0.0980\n",
            "Epoch 11/50\n",
            "\u001b[1m250/250\u001b[0m \u001b[32m━━━━━━━━━━━━━━━━━━━━\u001b[0m\u001b[37m\u001b[0m \u001b[1m1s\u001b[0m 3ms/step - accuracy: 0.9696 - loss: 0.1032 - val_accuracy: 0.9710 - val_loss: 0.0902\n",
            "Epoch 12/50\n",
            "\u001b[1m250/250\u001b[0m \u001b[32m━━━━━━━━━━━━━━━━━━━━\u001b[0m\u001b[37m\u001b[0m \u001b[1m1s\u001b[0m 3ms/step - accuracy: 0.9667 - loss: 0.1097 - val_accuracy: 0.9720 - val_loss: 0.0885\n",
            "Epoch 13/50\n",
            "\u001b[1m250/250\u001b[0m \u001b[32m━━━━━━━━━━━━━━━━━━━━\u001b[0m\u001b[37m\u001b[0m \u001b[1m1s\u001b[0m 3ms/step - accuracy: 0.9693 - loss: 0.1021 - val_accuracy: 0.9535 - val_loss: 0.1756\n",
            "Epoch 14/50\n",
            "\u001b[1m250/250\u001b[0m \u001b[32m━━━━━━━━━━━━━━━━━━━━\u001b[0m\u001b[37m\u001b[0m \u001b[1m1s\u001b[0m 3ms/step - accuracy: 0.9630 - loss: 0.1201 - val_accuracy: 0.9710 - val_loss: 0.0874\n",
            "Epoch 15/50\n",
            "\u001b[1m250/250\u001b[0m \u001b[32m━━━━━━━━━━━━━━━━━━━━\u001b[0m\u001b[37m\u001b[0m \u001b[1m1s\u001b[0m 4ms/step - accuracy: 0.9679 - loss: 0.1054 - val_accuracy: 0.9550 - val_loss: 0.1704\n",
            "Epoch 16/50\n",
            "\u001b[1m250/250\u001b[0m \u001b[32m━━━━━━━━━━━━━━━━━━━━\u001b[0m\u001b[37m\u001b[0m \u001b[1m1s\u001b[0m 3ms/step - accuracy: 0.9647 - loss: 0.1132 - val_accuracy: 0.9675 - val_loss: 0.1249\n",
            "Epoch 17/50\n",
            "\u001b[1m250/250\u001b[0m \u001b[32m━━━━━━━━━━━━━━━━━━━━\u001b[0m\u001b[37m\u001b[0m \u001b[1m2s\u001b[0m 4ms/step - accuracy: 0.9642 - loss: 0.1081 - val_accuracy: 0.9695 - val_loss: 0.1140\n",
            "Epoch 18/50\n",
            "\u001b[1m250/250\u001b[0m \u001b[32m━━━━━━━━━━━━━━━━━━━━\u001b[0m\u001b[37m\u001b[0m \u001b[1m1s\u001b[0m 5ms/step - accuracy: 0.9658 - loss: 0.1028 - val_accuracy: 0.9695 - val_loss: 0.1147\n",
            "Epoch 19/50\n",
            "\u001b[1m250/250\u001b[0m \u001b[32m━━━━━━━━━━━━━━━━━━━━\u001b[0m\u001b[37m\u001b[0m \u001b[1m1s\u001b[0m 4ms/step - accuracy: 0.9650 - loss: 0.1092 - val_accuracy: 0.9720 - val_loss: 0.0895\n",
            "Epoch 20/50\n",
            "\u001b[1m250/250\u001b[0m \u001b[32m━━━━━━━━━━━━━━━━━━━━\u001b[0m\u001b[37m\u001b[0m \u001b[1m1s\u001b[0m 3ms/step - accuracy: 0.9650 - loss: 0.1044 - val_accuracy: 0.9735 - val_loss: 0.0860\n",
            "Epoch 21/50\n",
            "\u001b[1m250/250\u001b[0m \u001b[32m━━━━━━━━━━━━━━━━━━━━\u001b[0m\u001b[37m\u001b[0m \u001b[1m1s\u001b[0m 3ms/step - accuracy: 0.9617 - loss: 0.1101 - val_accuracy: 0.9750 - val_loss: 0.0910\n",
            "Epoch 22/50\n",
            "\u001b[1m250/250\u001b[0m \u001b[32m━━━━━━━━━━━━━━━━━━━━\u001b[0m\u001b[37m\u001b[0m \u001b[1m1s\u001b[0m 3ms/step - accuracy: 0.9644 - loss: 0.1121 - val_accuracy: 0.9740 - val_loss: 0.0827\n",
            "Epoch 23/50\n",
            "\u001b[1m250/250\u001b[0m \u001b[32m━━━━━━━━━━━━━━━━━━━━\u001b[0m\u001b[37m\u001b[0m \u001b[1m1s\u001b[0m 3ms/step - accuracy: 0.9687 - loss: 0.1021 - val_accuracy: 0.9710 - val_loss: 0.0996\n",
            "Epoch 24/50\n",
            "\u001b[1m250/250\u001b[0m \u001b[32m━━━━━━━━━━━━━━━━━━━━\u001b[0m\u001b[37m\u001b[0m \u001b[1m1s\u001b[0m 3ms/step - accuracy: 0.9657 - loss: 0.1041 - val_accuracy: 0.9705 - val_loss: 0.0959\n",
            "Epoch 25/50\n",
            "\u001b[1m250/250\u001b[0m \u001b[32m━━━━━━━━━━━━━━━━━━━━\u001b[0m\u001b[37m\u001b[0m \u001b[1m1s\u001b[0m 3ms/step - accuracy: 0.9676 - loss: 0.1034 - val_accuracy: 0.9710 - val_loss: 0.0919\n",
            "Epoch 26/50\n",
            "\u001b[1m250/250\u001b[0m \u001b[32m━━━━━━━━━━━━━━━━━━━━\u001b[0m\u001b[37m\u001b[0m \u001b[1m1s\u001b[0m 3ms/step - accuracy: 0.9668 - loss: 0.1038 - val_accuracy: 0.9745 - val_loss: 0.0866\n",
            "Epoch 27/50\n",
            "\u001b[1m250/250\u001b[0m \u001b[32m━━━━━━━━━━━━━━━━━━━━\u001b[0m\u001b[37m\u001b[0m \u001b[1m1s\u001b[0m 3ms/step - accuracy: 0.9676 - loss: 0.0980 - val_accuracy: 0.9695 - val_loss: 0.1113\n",
            "Epoch 28/50\n",
            "\u001b[1m250/250\u001b[0m \u001b[32m━━━━━━━━━━━━━━━━━━━━\u001b[0m\u001b[37m\u001b[0m \u001b[1m1s\u001b[0m 3ms/step - accuracy: 0.9656 - loss: 0.1048 - val_accuracy: 0.9700 - val_loss: 0.1048\n",
            "Epoch 29/50\n",
            "\u001b[1m250/250\u001b[0m \u001b[32m━━━━━━━━━━━━━━━━━━━━\u001b[0m\u001b[37m\u001b[0m \u001b[1m2s\u001b[0m 4ms/step - accuracy: 0.9649 - loss: 0.1059 - val_accuracy: 0.9705 - val_loss: 0.1023\n",
            "Epoch 30/50\n",
            "\u001b[1m250/250\u001b[0m \u001b[32m━━━━━━━━━━━━━━━━━━━━\u001b[0m\u001b[37m\u001b[0m \u001b[1m1s\u001b[0m 5ms/step - accuracy: 0.9647 - loss: 0.1028 - val_accuracy: 0.9745 - val_loss: 0.0832\n",
            "Epoch 31/50\n",
            "\u001b[1m250/250\u001b[0m \u001b[32m━━━━━━━━━━━━━━━━━━━━\u001b[0m\u001b[37m\u001b[0m \u001b[1m1s\u001b[0m 3ms/step - accuracy: 0.9678 - loss: 0.1030 - val_accuracy: 0.9725 - val_loss: 0.0901\n",
            "Epoch 32/50\n",
            "\u001b[1m250/250\u001b[0m \u001b[32m━━━━━━━━━━━━━━━━━━━━\u001b[0m\u001b[37m\u001b[0m \u001b[1m1s\u001b[0m 3ms/step - accuracy: 0.9711 - loss: 0.0973 - val_accuracy: 0.9700 - val_loss: 0.1076\n",
            "Epoch 33/50\n",
            "\u001b[1m250/250\u001b[0m \u001b[32m━━━━━━━━━━━━━━━━━━━━\u001b[0m\u001b[37m\u001b[0m \u001b[1m1s\u001b[0m 3ms/step - accuracy: 0.9643 - loss: 0.1052 - val_accuracy: 0.9730 - val_loss: 0.0863\n",
            "Epoch 34/50\n",
            "\u001b[1m250/250\u001b[0m \u001b[32m━━━━━━━━━━━━━━━━━━━━\u001b[0m\u001b[37m\u001b[0m \u001b[1m1s\u001b[0m 3ms/step - accuracy: 0.9695 - loss: 0.0988 - val_accuracy: 0.9710 - val_loss: 0.0891\n",
            "Epoch 35/50\n",
            "\u001b[1m250/250\u001b[0m \u001b[32m━━━━━━━━━━━━━━━━━━━━\u001b[0m\u001b[37m\u001b[0m \u001b[1m1s\u001b[0m 3ms/step - accuracy: 0.9634 - loss: 0.1012 - val_accuracy: 0.9695 - val_loss: 0.1363\n",
            "Epoch 36/50\n",
            "\u001b[1m250/250\u001b[0m \u001b[32m━━━━━━━━━━━━━━━━━━━━\u001b[0m\u001b[37m\u001b[0m \u001b[1m1s\u001b[0m 3ms/step - accuracy: 0.9681 - loss: 0.0971 - val_accuracy: 0.9735 - val_loss: 0.0921\n",
            "Epoch 37/50\n",
            "\u001b[1m250/250\u001b[0m \u001b[32m━━━━━━━━━━━━━━━━━━━━\u001b[0m\u001b[37m\u001b[0m \u001b[1m1s\u001b[0m 3ms/step - accuracy: 0.9662 - loss: 0.1050 - val_accuracy: 0.9715 - val_loss: 0.1025\n",
            "Epoch 38/50\n",
            "\u001b[1m250/250\u001b[0m \u001b[32m━━━━━━━━━━━━━━━━━━━━\u001b[0m\u001b[37m\u001b[0m \u001b[1m1s\u001b[0m 3ms/step - accuracy: 0.9720 - loss: 0.0863 - val_accuracy: 0.9715 - val_loss: 0.0954\n",
            "Epoch 39/50\n",
            "\u001b[1m250/250\u001b[0m \u001b[32m━━━━━━━━━━━━━━━━━━━━\u001b[0m\u001b[37m\u001b[0m \u001b[1m1s\u001b[0m 3ms/step - accuracy: 0.9654 - loss: 0.1017 - val_accuracy: 0.9660 - val_loss: 0.1311\n",
            "Epoch 40/50\n",
            "\u001b[1m250/250\u001b[0m \u001b[32m━━━━━━━━━━━━━━━━━━━━\u001b[0m\u001b[37m\u001b[0m \u001b[1m1s\u001b[0m 4ms/step - accuracy: 0.9675 - loss: 0.1021 - val_accuracy: 0.9695 - val_loss: 0.2184\n",
            "Epoch 41/50\n",
            "\u001b[1m250/250\u001b[0m \u001b[32m━━━━━━━━━━━━━━━━━━━━\u001b[0m\u001b[37m\u001b[0m \u001b[1m1s\u001b[0m 3ms/step - accuracy: 0.9696 - loss: 0.0943 - val_accuracy: 0.9735 - val_loss: 0.0870\n",
            "Epoch 42/50\n",
            "\u001b[1m250/250\u001b[0m \u001b[32m━━━━━━━━━━━━━━━━━━━━\u001b[0m\u001b[37m\u001b[0m \u001b[1m1s\u001b[0m 4ms/step - accuracy: 0.9688 - loss: 0.0954 - val_accuracy: 0.9735 - val_loss: 0.0932\n",
            "Epoch 43/50\n",
            "\u001b[1m250/250\u001b[0m \u001b[32m━━━━━━━━━━━━━━━━━━━━\u001b[0m\u001b[37m\u001b[0m \u001b[1m1s\u001b[0m 5ms/step - accuracy: 0.9691 - loss: 0.0927 - val_accuracy: 0.9700 - val_loss: 0.0946\n",
            "Epoch 44/50\n",
            "\u001b[1m250/250\u001b[0m \u001b[32m━━━━━━━━━━━━━━━━━━━━\u001b[0m\u001b[37m\u001b[0m \u001b[1m1s\u001b[0m 4ms/step - accuracy: 0.9702 - loss: 0.0912 - val_accuracy: 0.9700 - val_loss: 0.1016\n",
            "Epoch 45/50\n",
            "\u001b[1m250/250\u001b[0m \u001b[32m━━━━━━━━━━━━━━━━━━━━\u001b[0m\u001b[37m\u001b[0m \u001b[1m1s\u001b[0m 3ms/step - accuracy: 0.9654 - loss: 0.0991 - val_accuracy: 0.9695 - val_loss: 0.1321\n",
            "Epoch 46/50\n",
            "\u001b[1m250/250\u001b[0m \u001b[32m━━━━━━━━━━━━━━━━━━━━\u001b[0m\u001b[37m\u001b[0m \u001b[1m1s\u001b[0m 3ms/step - accuracy: 0.9664 - loss: 0.1029 - val_accuracy: 0.8635 - val_loss: 0.3156\n",
            "Epoch 47/50\n",
            "\u001b[1m250/250\u001b[0m \u001b[32m━━━━━━━━━━━━━━━━━━━━\u001b[0m\u001b[37m\u001b[0m \u001b[1m1s\u001b[0m 4ms/step - accuracy: 0.9659 - loss: 0.1030 - val_accuracy: 0.9745 - val_loss: 0.0828\n",
            "Epoch 48/50\n",
            "\u001b[1m250/250\u001b[0m \u001b[32m━━━━━━━━━━━━━━━━━━━━\u001b[0m\u001b[37m\u001b[0m \u001b[1m1s\u001b[0m 3ms/step - accuracy: 0.9644 - loss: 0.1062 - val_accuracy: 0.9745 - val_loss: 0.0844\n",
            "Epoch 49/50\n",
            "\u001b[1m250/250\u001b[0m \u001b[32m━━━━━━━━━━━━━━━━━━━━\u001b[0m\u001b[37m\u001b[0m \u001b[1m1s\u001b[0m 3ms/step - accuracy: 0.9645 - loss: 0.1064 - val_accuracy: 0.8940 - val_loss: 0.2652\n",
            "Epoch 50/50\n",
            "\u001b[1m250/250\u001b[0m \u001b[32m━━━━━━━━━━━━━━━━━━━━\u001b[0m\u001b[37m\u001b[0m \u001b[1m1s\u001b[0m 3ms/step - accuracy: 0.9644 - loss: 0.1049 - val_accuracy: 0.9735 - val_loss: 0.0837\n"
          ]
        },
        {
          "output_type": "display_data",
          "data": {
            "text/plain": [
              "<Figure size 1200x500 with 2 Axes>"
            ],
            "image/png": "[encoded data removed]"
          },
          "metadata": {}
        }
      ]
    },
    {
      "cell_type": "code",
      "source": [
        "# Evaluate the model on the test set\n",
        "test_results = model.evaluate(\n",
        "    X_test,\n",
        "    {'binary_output': Y_binary_test, 'multiclass_output': Y_multiclass_test},\n",
        "    verbose=0\n",
        ")\n",
        "\n",
        "# Extract test loss and test accuracy\n",
        "binary_test_loss = test_results[1]  # Binary classification loss\n",
        "binary_test_accuracy = test_results[3]  # Binary classification accuracy\n",
        "\n",
        "multiclass_test_loss = test_results[2]  # Multiclass classification loss\n",
        "multiclass_test_accuracy = test_results[4]  # Multiclass classification accuracy\n",
        "\n",
        "# Print the results\n",
        "print(\"Test Results:\")\n",
        "print(f\"Binary Classification - Loss: {binary_test_loss:.4f}, Accuracy: {binary_test_accuracy:.4f}\")\n",
        "print(f\"Multiclass Classification - Loss: {multiclass_test_loss:.4f}, Accuracy: {multiclass_test_accuracy:.4f}\")"
      ],
      "metadata": {
        "colab": {
          "base_uri": "https://localhost:8080/"
        },
        "id": "15BMm8Nw0UNs",
        "outputId": "71c3a190-1938-456c-c375-6c445537c775"
      },
      "execution_count": 19,
      "outputs": [
        {
          "output_type": "stream",
          "name": "stdout",
          "text": [
            "Test Results:\n",
            "Binary Classification - Loss: 0.0910, Accuracy: 0.9720\n",
            "Multiclass Classification - Loss: 0.1001, Accuracy: 0.0155\n"
          ]
        }
      ]
    },
    {
      "cell_type": "markdown",
      "source": [
        "**QUESTION** Plot the confusion matrix and the classification report"
      ],
      "metadata": {
        "id": "yvmyHnqYpbf-"
      }
    },
    {
      "cell_type": "markdown",
      "source": [
        "**Tips:**\n",
        "\n",
        "*   classification report link\n",
        "\n",
        "> https://scikit-learn.org/stable/modules/generated/sklearn.metrics.classification_report.html\n",
        "\n",
        "*   Matrix confusion\n",
        "\n",
        "> https://scikit-learn.org/stable/modules/generated/sklearn.metrics.ConfusionMatrixDisplay.html\n",
        "\n",
        "\n",
        "\n"
      ],
      "metadata": {
        "id": "FUXSeJ1ZpsSP"
      }
    },
    {
      "cell_type": "code",
      "source": [],
      "metadata": {
        "id": "m4q5wvHNnAdu"
      },
      "execution_count": null,
      "outputs": []
    },
    {
      "cell_type": "markdown",
      "source": [
        "**ANALYSIS QUESTION** What do you observe? What can you conclude?"
      ],
      "metadata": {
        "id": "ImGsmryGkKhj"
      }
    },
    {
      "cell_type": "markdown",
      "source": [
        "\"Write your response here\""
      ],
      "metadata": {
        "id": "y1f5OneQknZy"
      }
    },
    {
      "cell_type": "markdown",
      "source": [
        "## **3- Train model With balancing the dataset**\n",
        "\n",
        "---"
      ],
      "metadata": {
        "id": "EYUyUAN5ji0x"
      }
    },
    {
      "cell_type": "markdown",
      "source": [
        " Methods for rebalancing a dataset:\n",
        "\n",
        "\n",
        "*   Use oversampling techniques (e.g., SMOTE) to generate synthetic data for minority classes\n",
        "\n",
        "\n",
        "> https://imbalanced-learn.org/stable/references/generated/imblearn.over_sampling.SMOTE.html\n",
        "\n",
        "\n",
        "\n",
        "*   Apply undersampling techniques (e.g., random undersampling, Tomek Links, Edited Nearest Neighbors) to reduce the majority class size\n",
        "\n",
        "\n",
        "\n",
        "> https://imbalanced-learn.org/stable/references/generated/imblearn.under_sampling.RandomUnderSampler.html\n",
        "\n",
        "\n",
        "\n",
        "*   Use class weighting during model training to penalize errors on minority classes\n",
        "\n",
        "\n",
        "\n",
        "> https://www.tensorflow.org/tutorials/structured_data/imbalanced_data?hl=fr\n"
      ],
      "metadata": {
        "id": "EQWut50JhKdD"
      }
    },
    {
      "cell_type": "markdown",
      "source": [
        "**QUESTION:** Create X_train, Y_train, X_test, and Y_test. How many elements are present in X_train, Y_train, X_test, and Y_test? (Print the values)"
      ],
      "metadata": {
        "id": "--pWJzaUnXdY"
      }
    },
    {
      "cell_type": "code",
      "source": [],
      "metadata": {
        "id": "aLW74cwbdr1U"
      },
      "execution_count": null,
      "outputs": []
    },
    {
      "cell_type": "markdown",
      "source": [
        "**ANALYSIS QUESTION:** Explain the choices you made to balance the dataset."
      ],
      "metadata": {
        "id": "-YcZXIadnbcm"
      }
    },
    {
      "cell_type": "markdown",
      "source": [
        "\"Write your response here\""
      ],
      "metadata": {
        "id": "Rku3pnWxnxhI"
      }
    },
    {
      "cell_type": "markdown",
      "source": [
        "**QUESTION:** Code below the model architecture\n"
      ],
      "metadata": {
        "id": "BVryPCQFn4Dd"
      }
    },
    {
      "cell_type": "markdown",
      "source": [
        "**TIP:** It could be interesting to keep it the same as before"
      ],
      "metadata": {
        "id": "Q5BGfI7TpVDD"
      }
    },
    {
      "cell_type": "code",
      "source": [],
      "metadata": {
        "id": "S0UbMHN6OC51"
      },
      "execution_count": null,
      "outputs": []
    },
    {
      "cell_type": "markdown",
      "source": [
        "**QUESTION** Code below the algorithms allowing to train model\n"
      ],
      "metadata": {
        "id": "wBZyS7DdofFq"
      }
    },
    {
      "cell_type": "code",
      "source": [],
      "metadata": {
        "id": "my6Ck5JbMDOG"
      },
      "execution_count": null,
      "outputs": []
    },
    {
      "cell_type": "markdown",
      "source": [
        "**QUESTION** Plot the confusion matrix and the classification report"
      ],
      "metadata": {
        "id": "77ftkfv5oqp0"
      }
    },
    {
      "cell_type": "code",
      "source": [],
      "metadata": {
        "id": "kRmkOI_co5d9"
      },
      "execution_count": null,
      "outputs": []
    },
    {
      "cell_type": "markdown",
      "source": [
        "**ANALYSIS QUESTION** What do you observe? What can you conclude?"
      ],
      "metadata": {
        "id": "Zn5BBAI3pHXf"
      }
    },
    {
      "cell_type": "markdown",
      "source": [
        "\"Write your response here\""
      ],
      "metadata": {
        "id": "SIf8rfU9pIGd"
      }
    }
  ]
}